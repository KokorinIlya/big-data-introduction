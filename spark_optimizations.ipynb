{
 "cells": [
  {
   "cell_type": "code",
   "execution_count": 1,
   "id": "64c81473",
   "metadata": {},
   "outputs": [],
   "source": [
    "from pyspark.sql import SparkSession"
   ]
  },
  {
   "cell_type": "code",
   "execution_count": 3,
   "id": "78736116",
   "metadata": {},
   "outputs": [],
   "source": [
    "spark = SparkSession.builder.appName(\"Spark-Optmizations\").getOrCreate()\n",
    "spark.sparkContext.setLogLevel('WARN')"
   ]
  },
  {
   "cell_type": "code",
   "execution_count": 4,
   "id": "569e0b23",
   "metadata": {},
   "outputs": [
    {
     "data": {
      "text/plain": [
       "[Row(value='Дуб - дерево.'),\n",
       " Row(value='Роза - цветок.'),\n",
       " Row(value='Олень - животное.'),\n",
       " Row(value='Воробей - птица.'),\n",
       " Row(value='Россия - наше отечество.'),\n",
       " Row(value='Смерть неизбежна.')]"
      ]
     },
     "execution_count": 4,
     "metadata": {},
     "output_type": "execute_result"
    }
   ],
   "source": [
    "data = spark.read.text('sample_dataset.txt').rdd\n",
    "data.collect()"
   ]
  },
  {
   "cell_type": "code",
   "execution_count": 5,
   "id": "dd1b8cfd",
   "metadata": {},
   "outputs": [],
   "source": [
    "def predicate(row):\n",
    "    print(f'Examining row {row}')\n",
    "    return True\n",
    "\n",
    "filtered_data = data.filter(predicate)"
   ]
  },
  {
   "cell_type": "code",
   "execution_count": 6,
   "id": "5e56d56c",
   "metadata": {},
   "outputs": [
    {
     "name": "stderr",
     "output_type": "stream",
     "text": [
      "Examining row Row(value='Дуб - дерево.')\n",
      "Examining row Row(value='Роза - цветок.')\n",
      "Examining row Row(value='Олень - животное.')\n",
      "Examining row Row(value='Воробей - птица.')\n",
      "Examining row Row(value='Россия - наше отечество.')\n",
      "Examining row Row(value='Смерть неизбежна.')\n"
     ]
    },
    {
     "data": {
      "text/plain": [
       "[Row(value='Дуб - дерево.'),\n",
       " Row(value='Роза - цветок.'),\n",
       " Row(value='Олень - животное.'),\n",
       " Row(value='Воробей - птица.'),\n",
       " Row(value='Россия - наше отечество.'),\n",
       " Row(value='Смерть неизбежна.')]"
      ]
     },
     "execution_count": 6,
     "metadata": {},
     "output_type": "execute_result"
    }
   ],
   "source": [
    "filtered_data.collect()"
   ]
  },
  {
   "cell_type": "code",
   "execution_count": 7,
   "id": "fe48f190",
   "metadata": {},
   "outputs": [
    {
     "name": "stderr",
     "output_type": "stream",
     "text": [
      "Examining row Row(value='Дуб - дерево.')\n",
      "Examining row Row(value='Роза - цветок.')\n",
      "Examining row Row(value='Олень - животное.')\n",
      "Examining row Row(value='Воробей - птица.')\n",
      "Examining row Row(value='Россия - наше отечество.')\n",
      "Examining row Row(value='Смерть неизбежна.')\n"
     ]
    },
    {
     "data": {
      "text/plain": [
       "6"
      ]
     },
     "execution_count": 7,
     "metadata": {},
     "output_type": "execute_result"
    }
   ],
   "source": [
    "filtered_data.count()"
   ]
  },
  {
   "cell_type": "code",
   "execution_count": 8,
   "id": "bd3b72f5",
   "metadata": {},
   "outputs": [],
   "source": [
    "cached_filtered_data = data.filter(predicate).cache()"
   ]
  },
  {
   "cell_type": "code",
   "execution_count": 9,
   "id": "f7b6f95e",
   "metadata": {},
   "outputs": [
    {
     "name": "stderr",
     "output_type": "stream",
     "text": [
      "Examining row Row(value='Дуб - дерево.')\n",
      "Examining row Row(value='Роза - цветок.')\n",
      "Examining row Row(value='Олень - животное.')\n",
      "Examining row Row(value='Воробей - птица.')\n",
      "Examining row Row(value='Россия - наше отечество.')\n",
      "Examining row Row(value='Смерть неизбежна.')\n"
     ]
    },
    {
     "data": {
      "text/plain": [
       "[Row(value='Дуб - дерево.'),\n",
       " Row(value='Роза - цветок.'),\n",
       " Row(value='Олень - животное.'),\n",
       " Row(value='Воробей - птица.'),\n",
       " Row(value='Россия - наше отечество.'),\n",
       " Row(value='Смерть неизбежна.')]"
      ]
     },
     "execution_count": 9,
     "metadata": {},
     "output_type": "execute_result"
    }
   ],
   "source": [
    "cached_filtered_data.collect()"
   ]
  },
  {
   "cell_type": "code",
   "execution_count": 10,
   "id": "97d992d1",
   "metadata": {},
   "outputs": [
    {
     "data": {
      "text/plain": [
       "6"
      ]
     },
     "execution_count": 10,
     "metadata": {},
     "output_type": "execute_result"
    }
   ],
   "source": [
    "cached_filtered_data.count()"
   ]
  },
  {
   "cell_type": "code",
   "execution_count": 11,
   "id": "8406dec1",
   "metadata": {},
   "outputs": [
    {
     "name": "stderr",
     "output_type": "stream",
     "text": [
      "Examining row Row(value='Дуб - дерево.')\n",
      "Examining row Row(value='Роза - цветок.')\n",
      "Examining row Row(value='Олень - животное.')\n"
     ]
    },
    {
     "data": {
      "text/plain": [
       "[Row(value='Дуб - дерево.'),\n",
       " Row(value='Роза - цветок.'),\n",
       " Row(value='Олень - животное.')]"
      ]
     },
     "execution_count": 11,
     "metadata": {},
     "output_type": "execute_result"
    }
   ],
   "source": [
    "data.filter(predicate).take(3)"
   ]
  },
  {
   "cell_type": "code",
   "execution_count": 12,
   "id": "bf6cc77c",
   "metadata": {},
   "outputs": [
    {
     "data": {
      "text/plain": [
       "[Row(value='Дуб - дерево.'),\n",
       " Row(value='Роза - цветок.'),\n",
       " Row(value='Олень - животное.')]"
      ]
     },
     "execution_count": 12,
     "metadata": {},
     "output_type": "execute_result"
    }
   ],
   "source": [
    "cached_filtered_data.take(3)"
   ]
  },
  {
   "cell_type": "code",
   "execution_count": null,
   "id": "8880b6bd",
   "metadata": {},
   "outputs": [],
   "source": []
  }
 ],
 "metadata": {
  "kernelspec": {
   "display_name": "Python 3",
   "language": "python",
   "name": "python3"
  },
  "language_info": {
   "codemirror_mode": {
    "name": "ipython",
    "version": 3
   },
   "file_extension": ".py",
   "mimetype": "text/x-python",
   "name": "python",
   "nbconvert_exporter": "python",
   "pygments_lexer": "ipython3",
   "version": "3.8.0"
  }
 },
 "nbformat": 4,
 "nbformat_minor": 5
}
