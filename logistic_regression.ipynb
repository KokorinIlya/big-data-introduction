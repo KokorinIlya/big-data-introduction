{
 "cells": [
  {
   "cell_type": "code",
   "execution_count": 1,
   "id": "3b172dd7",
   "metadata": {},
   "outputs": [],
   "source": [
    "import numpy\n",
    "import pandas\n",
    "import matplotlib.pyplot as plt"
   ]
  },
  {
   "cell_type": "code",
   "execution_count": 2,
   "id": "620caa46",
   "metadata": {},
   "outputs": [],
   "source": [
    "k = -1\n",
    "b = 3 # y = kx + b => y = -x + 3 => y + x - 3 = 0\n",
    "N_SAMPLES = 100\n",
    "LOWER = -10.\n",
    "UPPER = 10."
   ]
  },
  {
   "cell_type": "code",
   "execution_count": 3,
   "id": "bcbbd365",
   "metadata": {},
   "outputs": [
    {
     "data": {
      "text/html": [
       "<div>\n",
       "<style scoped>\n",
       "    .dataframe tbody tr th:only-of-type {\n",
       "        vertical-align: middle;\n",
       "    }\n",
       "\n",
       "    .dataframe tbody tr th {\n",
       "        vertical-align: top;\n",
       "    }\n",
       "\n",
       "    .dataframe thead th {\n",
       "        text-align: right;\n",
       "    }\n",
       "</style>\n",
       "<table border=\"1\" class=\"dataframe\">\n",
       "  <thead>\n",
       "    <tr style=\"text-align: right;\">\n",
       "      <th></th>\n",
       "      <th>x</th>\n",
       "      <th>y</th>\n",
       "    </tr>\n",
       "  </thead>\n",
       "  <tbody>\n",
       "    <tr>\n",
       "      <th>0</th>\n",
       "      <td>-2.982662</td>\n",
       "      <td>-0.514850</td>\n",
       "    </tr>\n",
       "    <tr>\n",
       "      <th>1</th>\n",
       "      <td>5.330339</td>\n",
       "      <td>-1.380899</td>\n",
       "    </tr>\n",
       "    <tr>\n",
       "      <th>2</th>\n",
       "      <td>-6.976826</td>\n",
       "      <td>7.510223</td>\n",
       "    </tr>\n",
       "    <tr>\n",
       "      <th>3</th>\n",
       "      <td>4.680230</td>\n",
       "      <td>5.911996</td>\n",
       "    </tr>\n",
       "    <tr>\n",
       "      <th>4</th>\n",
       "      <td>7.851922</td>\n",
       "      <td>0.017921</td>\n",
       "    </tr>\n",
       "  </tbody>\n",
       "</table>\n",
       "</div>"
      ],
      "text/plain": [
       "          x         y\n",
       "0 -2.982662 -0.514850\n",
       "1  5.330339 -1.380899\n",
       "2 -6.976826  7.510223\n",
       "3  4.680230  5.911996\n",
       "4  7.851922  0.017921"
      ]
     },
     "execution_count": 3,
     "metadata": {},
     "output_type": "execute_result"
    }
   ],
   "source": [
    "R = numpy.random.uniform(low=LOWER, high=UPPER, size=(N_SAMPLES, 2))\n",
    "df = pandas.DataFrame(R, columns=['x', 'y'])\n",
    "df.head()"
   ]
  },
  {
   "cell_type": "code",
   "execution_count": 4,
   "id": "04903f8e",
   "metadata": {},
   "outputs": [
    {
     "data": {
      "text/html": [
       "<div>\n",
       "<style scoped>\n",
       "    .dataframe tbody tr th:only-of-type {\n",
       "        vertical-align: middle;\n",
       "    }\n",
       "\n",
       "    .dataframe tbody tr th {\n",
       "        vertical-align: top;\n",
       "    }\n",
       "\n",
       "    .dataframe thead th {\n",
       "        text-align: right;\n",
       "    }\n",
       "</style>\n",
       "<table border=\"1\" class=\"dataframe\">\n",
       "  <thead>\n",
       "    <tr style=\"text-align: right;\">\n",
       "      <th></th>\n",
       "      <th>x</th>\n",
       "      <th>y</th>\n",
       "      <th>c</th>\n",
       "    </tr>\n",
       "  </thead>\n",
       "  <tbody>\n",
       "    <tr>\n",
       "      <th>0</th>\n",
       "      <td>-2.982662</td>\n",
       "      <td>-0.514850</td>\n",
       "      <td>-1</td>\n",
       "    </tr>\n",
       "    <tr>\n",
       "      <th>1</th>\n",
       "      <td>5.330339</td>\n",
       "      <td>-1.380899</td>\n",
       "      <td>-1</td>\n",
       "    </tr>\n",
       "    <tr>\n",
       "      <th>2</th>\n",
       "      <td>-6.976826</td>\n",
       "      <td>7.510223</td>\n",
       "      <td>-1</td>\n",
       "    </tr>\n",
       "    <tr>\n",
       "      <th>3</th>\n",
       "      <td>4.680230</td>\n",
       "      <td>5.911996</td>\n",
       "      <td>-1</td>\n",
       "    </tr>\n",
       "    <tr>\n",
       "      <th>4</th>\n",
       "      <td>7.851922</td>\n",
       "      <td>0.017921</td>\n",
       "      <td>-1</td>\n",
       "    </tr>\n",
       "  </tbody>\n",
       "</table>\n",
       "</div>"
      ],
      "text/plain": [
       "          x         y  c\n",
       "0 -2.982662 -0.514850 -1\n",
       "1  5.330339 -1.380899 -1\n",
       "2 -6.976826  7.510223 -1\n",
       "3  4.680230  5.911996 -1\n",
       "4  7.851922  0.017921 -1"
      ]
     },
     "execution_count": 4,
     "metadata": {},
     "output_type": "execute_result"
    }
   ],
   "source": [
    "df = df.assign(c=-1)\n",
    "df.head()"
   ]
  },
  {
   "cell_type": "code",
   "execution_count": 5,
   "id": "90b6661f",
   "metadata": {},
   "outputs": [
    {
     "data": {
      "text/html": [
       "<div>\n",
       "<style scoped>\n",
       "    .dataframe tbody tr th:only-of-type {\n",
       "        vertical-align: middle;\n",
       "    }\n",
       "\n",
       "    .dataframe tbody tr th {\n",
       "        vertical-align: top;\n",
       "    }\n",
       "\n",
       "    .dataframe thead th {\n",
       "        text-align: right;\n",
       "    }\n",
       "</style>\n",
       "<table border=\"1\" class=\"dataframe\">\n",
       "  <thead>\n",
       "    <tr style=\"text-align: right;\">\n",
       "      <th></th>\n",
       "      <th>x</th>\n",
       "      <th>y</th>\n",
       "      <th>c</th>\n",
       "    </tr>\n",
       "  </thead>\n",
       "  <tbody>\n",
       "    <tr>\n",
       "      <th>1</th>\n",
       "      <td>5.330339</td>\n",
       "      <td>-1.380899</td>\n",
       "      <td>1</td>\n",
       "    </tr>\n",
       "    <tr>\n",
       "      <th>3</th>\n",
       "      <td>4.680230</td>\n",
       "      <td>5.911996</td>\n",
       "      <td>1</td>\n",
       "    </tr>\n",
       "    <tr>\n",
       "      <th>4</th>\n",
       "      <td>7.851922</td>\n",
       "      <td>0.017921</td>\n",
       "      <td>1</td>\n",
       "    </tr>\n",
       "    <tr>\n",
       "      <th>5</th>\n",
       "      <td>1.209076</td>\n",
       "      <td>3.359237</td>\n",
       "      <td>1</td>\n",
       "    </tr>\n",
       "    <tr>\n",
       "      <th>10</th>\n",
       "      <td>0.880653</td>\n",
       "      <td>6.985085</td>\n",
       "      <td>1</td>\n",
       "    </tr>\n",
       "  </tbody>\n",
       "</table>\n",
       "</div>"
      ],
      "text/plain": [
       "           x         y  c\n",
       "1   5.330339 -1.380899  1\n",
       "3   4.680230  5.911996  1\n",
       "4   7.851922  0.017921  1\n",
       "5   1.209076  3.359237  1\n",
       "10  0.880653  6.985085  1"
      ]
     },
     "execution_count": 5,
     "metadata": {},
     "output_type": "execute_result"
    }
   ],
   "source": [
    "df.loc[df.y - k * df.x - b >= 0., 'c'] = 1\n",
    "df[df.c == 1].head()"
   ]
  },
  {
   "cell_type": "code",
   "execution_count": 6,
   "id": "5c2a136c",
   "metadata": {},
   "outputs": [
    {
     "data": {
      "text/html": [
       "<div>\n",
       "<style scoped>\n",
       "    .dataframe tbody tr th:only-of-type {\n",
       "        vertical-align: middle;\n",
       "    }\n",
       "\n",
       "    .dataframe tbody tr th {\n",
       "        vertical-align: top;\n",
       "    }\n",
       "\n",
       "    .dataframe thead th {\n",
       "        text-align: right;\n",
       "    }\n",
       "</style>\n",
       "<table border=\"1\" class=\"dataframe\">\n",
       "  <thead>\n",
       "    <tr style=\"text-align: right;\">\n",
       "      <th></th>\n",
       "      <th>x</th>\n",
       "      <th>y</th>\n",
       "      <th>c</th>\n",
       "    </tr>\n",
       "  </thead>\n",
       "  <tbody>\n",
       "    <tr>\n",
       "      <th>0</th>\n",
       "      <td>-2.982662</td>\n",
       "      <td>-0.514850</td>\n",
       "      <td>-1</td>\n",
       "    </tr>\n",
       "    <tr>\n",
       "      <th>2</th>\n",
       "      <td>-6.976826</td>\n",
       "      <td>7.510223</td>\n",
       "      <td>-1</td>\n",
       "    </tr>\n",
       "    <tr>\n",
       "      <th>6</th>\n",
       "      <td>-3.074148</td>\n",
       "      <td>1.641159</td>\n",
       "      <td>-1</td>\n",
       "    </tr>\n",
       "    <tr>\n",
       "      <th>7</th>\n",
       "      <td>-8.969222</td>\n",
       "      <td>3.050023</td>\n",
       "      <td>-1</td>\n",
       "    </tr>\n",
       "    <tr>\n",
       "      <th>8</th>\n",
       "      <td>-5.634171</td>\n",
       "      <td>0.243757</td>\n",
       "      <td>-1</td>\n",
       "    </tr>\n",
       "  </tbody>\n",
       "</table>\n",
       "</div>"
      ],
      "text/plain": [
       "          x         y  c\n",
       "0 -2.982662 -0.514850 -1\n",
       "2 -6.976826  7.510223 -1\n",
       "6 -3.074148  1.641159 -1\n",
       "7 -8.969222  3.050023 -1\n",
       "8 -5.634171  0.243757 -1"
      ]
     },
     "execution_count": 6,
     "metadata": {},
     "output_type": "execute_result"
    }
   ],
   "source": [
    "df[df.c == -1].head()"
   ]
  },
  {
   "cell_type": "code",
   "execution_count": 7,
   "id": "320cd3f6",
   "metadata": {},
   "outputs": [],
   "source": [
    "def plot_dataset(df, k, b):\n",
    "    plt.scatter(df.x, df.y, c=df.c)\n",
    "    x_all = numpy.arange(LOWER - 2., UPPER + 5.)\n",
    "    plt.plot(x_all, k * x_all + b)"
   ]
  },
  {
   "cell_type": "code",
   "execution_count": 8,
   "id": "62bd237b",
   "metadata": {},
   "outputs": [
    {
     "data": {
      "image/png": "[encoded data removed]",
      "text/plain": [
       "<Figure size 432x288 with 1 Axes>"
      ]
     },
     "metadata": {
      "needs_background": "light"
     },
     "output_type": "display_data"
    }
   ],
   "source": [
    "plot_dataset(df, k, b)"
   ]
  },
  {
   "cell_type": "code",
   "execution_count": 9,
   "id": "29af0929",
   "metadata": {},
   "outputs": [],
   "source": [
    "df.loc[:, 'x'] += numpy.random.normal(0., 1., size=N_SAMPLES)\n",
    "df.loc[:, 'y'] += numpy.random.normal(0., 1., size=N_SAMPLES)"
   ]
  },
  {
   "cell_type": "code",
   "execution_count": 10,
   "id": "b2cbc82b",
   "metadata": {},
   "outputs": [
    {
     "data": {
      "image/png": "[encoded data removed]",
      "text/plain": [
       "<Figure size 432x288 with 1 Axes>"
      ]
     },
     "metadata": {
      "needs_background": "light"
     },
     "output_type": "display_data"
    }
   ],
   "source": [
    "plot_dataset(df, k, b)"
   ]
  },
  {
   "cell_type": "code",
   "execution_count": 11,
   "id": "363214f5",
   "metadata": {},
   "outputs": [],
   "source": [
    "df[['x', 'y', 'c']].to_csv('points.csv', index=False)"
   ]
  },
  {
   "cell_type": "code",
   "execution_count": 12,
   "id": "1aec48fb",
   "metadata": {},
   "outputs": [],
   "source": [
    "from pyspark.sql import SparkSession"
   ]
  },
  {
   "cell_type": "code",
   "execution_count": 18,
   "id": "f62f436d",
   "metadata": {},
   "outputs": [],
   "source": [
    "spark = SparkSession.builder.appName('Logistic-Regression').getOrCreate()\n",
    "spark.sparkContext.setLogLevel('WARN')"
   ]
  },
  {
   "cell_type": "code",
   "execution_count": 20,
   "id": "cad304e6",
   "metadata": {},
   "outputs": [
    {
     "data": {
      "text/plain": [
       "[Row(x='-2.569135342535734', y='-2.432942309100753', c='-1'),\n",
       " Row(x='1.625010063797573', y='-2.706017249999663', c='1'),\n",
       " Row(x='-5.450137889166188', y='8.112025825044093', c='-1'),\n",
       " Row(x='3.7871500979840604', y='4.257568235073122', c='1'),\n",
       " Row(x='8.451051434785406', y='-0.594913864549765', c='1'),\n",
       " Row(x='3.252461143682292', y='3.115556221752783', c='1'),\n",
       " Row(x='-2.482965293668939', y='2.204960822400191', c='-1'),\n",
       " Row(x='-7.78816657195814', y='1.7332554008380219', c='-1'),\n",
       " Row(x='-6.617827425024958', y='0.21528972601770352', c='-1'),\n",
       " Row(x='-10.207179226095475', y='-0.18583828484913556', c='-1')]"
      ]
     },
     "execution_count": 20,
     "metadata": {},
     "output_type": "execute_result"
    }
   ],
   "source": [
    "data = spark.read.option(\"header\", True).csv('points.csv').cache().rdd\n",
    "data.take(10)"
   ]
  },
  {
   "cell_type": "code",
   "execution_count": 21,
   "id": "7fd7297a",
   "metadata": {},
   "outputs": [
    {
     "data": {
      "text/plain": [
       "[Row(c=-1, features=array([-2.56913534, -2.43294231,  1.        ])),\n",
       " Row(c=1, features=array([ 1.62501006, -2.70601725,  1.        ])),\n",
       " Row(c=-1, features=array([-5.45013789,  8.11202583,  1.        ]))]"
      ]
     },
     "execution_count": 21,
     "metadata": {},
     "output_type": "execute_result"
    }
   ],
   "source": [
    "from pyspark.sql.types import Row\n",
    "\n",
    "def process_row(row):\n",
    "    d = row.asDict()\n",
    "    \n",
    "    x = float(d['x'])\n",
    "    y = float(d['y'])\n",
    "    d['features'] = numpy.array([x, y, 1.], dtype=float)\n",
    "    del d['x']\n",
    "    del d['y']\n",
    "    d['c'] = int(d['c'])\n",
    "    \n",
    "    return Row(**d)\n",
    "\n",
    "data = data.map(process_row).cache()\n",
    "data.take(3)"
   ]
  },
  {
   "cell_type": "code",
   "execution_count": 22,
   "id": "4a89f6f0",
   "metadata": {},
   "outputs": [
    {
     "data": {
      "text/plain": [
       "array([ 0.42465616, -0.18858698, -0.01576142])"
      ]
     },
     "execution_count": 22,
     "metadata": {},
     "output_type": "execute_result"
    }
   ],
   "source": [
    "w = numpy.random.normal(size=3)\n",
    "w"
   ]
  },
  {
   "cell_type": "code",
   "execution_count": 23,
   "id": "268afc07",
   "metadata": {},
   "outputs": [],
   "source": [
    "import math\n",
    "\n",
    "def sigmoid(x):\n",
    "    return 1. / (1. + math.exp(-x))\n",
    "\n",
    "def grad_mapper(row):\n",
    "    z = numpy.dot(w, row.features)\n",
    "    return -row.features * row.c * sigmoid(-row.c * z)\n",
    "\n",
    "N_POINTS = data.count()\n",
    "N_ITERS = 100\n",
    "ALPHA = 0.1\n",
    "for i in range(N_ITERS):\n",
    "    grads = data.map(grad_mapper)\n",
    "    grad = grads.sum() / N_POINTS\n",
    "    w -= ALPHA * grad"
   ]
  },
  {
   "cell_type": "code",
   "execution_count": 24,
   "id": "a56c895c",
   "metadata": {},
   "outputs": [
    {
     "data": {
      "text/plain": [
       "array([ 0.48968323,  0.59126135, -0.85886023])"
      ]
     },
     "execution_count": 24,
     "metadata": {},
     "output_type": "execute_result"
    }
   ],
   "source": [
    "w # x * w[0] + y * w[1] + w[2] = 0 => y = (-w[0] / w[1]) * x + (-w[2] / w[1])"
   ]
  },
  {
   "cell_type": "code",
   "execution_count": 25,
   "id": "36e36e38",
   "metadata": {},
   "outputs": [
    {
     "data": {
      "image/png": "[encoded data removed]",
      "text/plain": [
       "<Figure size 432x288 with 1 Axes>"
      ]
     },
     "metadata": {
      "needs_background": "light"
     },
     "output_type": "display_data"
    }
   ],
   "source": [
    "plot_dataset(df, k = -w[0] / w[1], b = -w[2] / w[1])"
   ]
  },
  {
   "cell_type": "code",
   "execution_count": null,
   "id": "5d2655f0",
   "metadata": {},
   "outputs": [],
   "source": []
  }
 ],
 "metadata": {
  "kernelspec": {
   "display_name": "Python 3",
   "language": "python",
   "name": "python3"
  },
  "language_info": {
   "codemirror_mode": {
    "name": "ipython",
    "version": 3
   },
   "file_extension": ".py",
   "mimetype": "text/x-python",
   "name": "python",
   "nbconvert_exporter": "python",
   "pygments_lexer": "ipython3",
   "version": "3.8.0"
  }
 },
 "nbformat": 4,
 "nbformat_minor": 5
}
